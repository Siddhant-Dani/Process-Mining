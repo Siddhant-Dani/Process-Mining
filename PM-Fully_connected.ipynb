{
 "cells": [
  {
   "cell_type": "code",
   "execution_count": null,
   "id": "e13bc18e",
   "metadata": {},
   "outputs": [],
   "source": [
    "#import pm4py\n",
    "import keras\n",
    "import tensorflow as tf\n",
    "import pandas as pd\n",
    "import random\n",
    "import numpy as np\n",
    "import os\n",
    "import xml.etree.ElementTree as ET\n",
    "from tensorflow.keras.preprocessing.sequence import pad_sequences\n",
    "from tensorflow.keras.models import Sequential\n",
    "from tensorflow.keras.layers import Embedding, LSTM, Dense, Flatten, Dropout\n",
    "from tensorflow.keras.utils import to_categorical\n",
    "from tensorflow.keras.callbacks import EarlyStopping"
   ]
  },
  {
   "cell_type": "code",
   "execution_count": null,
   "id": "cc983dcd",
   "metadata": {},
   "outputs": [],
   "source": [
    "#local directory with logs (can be changed as per need)\n",
    "train_directory = \"D:\\Siddhant\\Masters Project\\Dataset\\Process Discovery Contest 2023_1_all\\Training Logs\"\n",
    "\n",
    "\n",
    "\n",
    "#extracting concept names\n",
    "def extract_concept_names(file_path):\n",
    "    tree = ET.parse(file_path)\n",
    "    root = tree.getroot()\n",
    "    \n",
    "    concept_names = []\n",
    "    for trace in root.iter('trace'):\n",
    "        for event in trace.iter('event'):\n",
    "            for string in event.iter('string'):\n",
    "                if string.attrib.get('key') == 'concept:name':\n",
    "                    concept_names.append(string.attrib['value'])\n",
    "        #end of case token\n",
    "        concept_names.append('<END>')\n",
    "    \n",
    "    return concept_names\n",
    "\n",
    "# Function to read and combine logs from all files in the directory\n",
    "def read_and_combine_logs(directory):\n",
    "    combined_activities = []\n",
    "    for filename in os.listdir(directory):\n",
    "        if filename.endswith('.xes'):\n",
    "            log_path = os.path.join(directory, filename)\n",
    "            concept_names = extract_concept_names(log_path)\n",
    "            combined_activities.extend(concept_names)\n",
    "    return combined_activities"
   ]
  },
  {
   "cell_type": "code",
   "execution_count": null,
   "id": "4e74f98e",
   "metadata": {},
   "outputs": [],
   "source": [
    "combined_activities = read_and_combine_logs(train_directory)\n",
    "print(f\"Number of activities extracted: {len(combined_activities)}\")"
   ]
  },
  {
   "cell_type": "code",
   "execution_count": null,
   "id": "ef07ab29",
   "metadata": {},
   "outputs": [],
   "source": [
    "# Convert activities to categorical codes\n",
    "activity_codes = pd.Series(combined_activities).astype('category').cat.codes\n",
    "unique_activities = pd.Series(combined_activities).astype('category').cat.categories"
   ]
  },
  {
   "cell_type": "code",
   "execution_count": null,
   "id": "6ef0bc93",
   "metadata": {},
   "outputs": [],
   "source": [
    "max_sequence_length = 25\n",
    "num_classes = len(unique_activities)\n",
    "batch_size = 16\n",
    "\n",
    "\n",
    "def sequence_generator(activity_codes, batch_size, max_sequence_length, num_classes):\n",
    "    while True:\n",
    "        indices = list(range(1, len(activity_codes)))\n",
    "        random.shuffle(indices)\n",
    "\n",
    "        sequences = []\n",
    "        next_activities = []\n",
    "        \n",
    "        for i in indices:\n",
    "            if activity_codes[i] == '<END>':\n",
    "                continue  # Skip end of case tokens for next activity prediction\n",
    "\n",
    "            seq = activity_codes[:i].tolist()\n",
    "            next_act = activity_codes[i]\n",
    "\n",
    "            # Stop the sequence at the end of case\n",
    "            if '<END>' in seq:\n",
    "                end_index = seq.index('<END>')\n",
    "                seq = seq[:end_index + 1]\n",
    "\n",
    "            sequences.append(seq)\n",
    "            next_activities.append(next_act)\n",
    "            \n",
    "            if len(sequences) == batch_size:\n",
    "                X = pad_sequences(sequences, maxlen=max_sequence_length, padding='pre')\n",
    "                y = to_categorical(next_activities, num_classes=num_classes)\n",
    "                yield X, y\n",
    "                sequences = []\n",
    "                next_activities = []"
   ]
  },
  {
   "cell_type": "code",
   "execution_count": null,
   "id": "cf994097",
   "metadata": {},
   "outputs": [],
   "source": [
    "#model\n",
    "\n",
    "model = Sequential()\n",
    "model.add(Embedding(input_dim=num_classes, output_dim=64, input_length=max_sequence_length))\n",
    "model.add(Flatten())\n",
    "model.add(Dense(256, activation='relu'))\n",
    "model.add(Dropout(0.5))\n",
    "model.add(Dense(128, activation='relu'))\n",
    "model.add(Dropout(0.5))\n",
    "model.add(Dense(64, activation='relu'))\n",
    "model.add(Dense(num_classes, activation='softmax'))\n",
    "\n",
    "model.compile(optimizer='adam', loss='categorical_crossentropy', metrics=['accuracy'])\n",
    "\n",
    "early_stopping = EarlyStopping(monitor='val_loss', patience=3, restore_best_weights=True)\n",
    "\n",
    "# Training the model\n",
    "model.fit(sequence_generator(activity_codes, batch_size, max_sequence_length, num_classes),\n",
    "          steps_per_epoch=len(activity_codes) // batch_size,\n",
    "          epochs=10,\n",
    "          validation_data=sequence_generator(activity_codes, batch_size, max_sequence_length, num_classes),\n",
    "          validation_steps=len(activity_codes) // batch_size // 10,\n",
    "          callbacks=[early_stopping])\n"
   ]
  },
  {
   "cell_type": "code",
   "execution_count": null,
   "id": "68827b6d",
   "metadata": {},
   "outputs": [],
   "source": [
    "# Evaluation\n",
    "loss, accuracy = model.evaluate(sequence_generator(activity_codes, batch_size, max_sequence_length, num_classes),\n",
    "                                steps=len(activity_codes) // batch_size)\n",
    "print(f'Loss: {loss}, Accuracy: {accuracy}')"
   ]
  },
  {
   "cell_type": "code",
   "execution_count": null,
   "id": "0bd4a340",
   "metadata": {},
   "outputs": [],
   "source": []
  }
 ],
 "metadata": {
  "kernelspec": {
   "display_name": "Python 3 (ipykernel)",
   "language": "python",
   "name": "python3"
  },
  "language_info": {
   "codemirror_mode": {
    "name": "ipython",
    "version": 3
   },
   "file_extension": ".py",
   "mimetype": "text/x-python",
   "name": "python",
   "nbconvert_exporter": "python",
   "pygments_lexer": "ipython3",
   "version": "3.11.5"
  }
 },
 "nbformat": 4,
 "nbformat_minor": 5
}
