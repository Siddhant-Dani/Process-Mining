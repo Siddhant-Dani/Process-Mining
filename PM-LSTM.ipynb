{
 "cells": [
  {
   "cell_type": "code",
   "execution_count": 3,
   "id": "c52492ca",
   "metadata": {},
   "outputs": [],
   "source": [
    "#import pm4py\n",
    "import keras\n",
    "import tensorflow as tf\n",
    "import pandas as pd\n",
    "import numpy as np\n",
    "import os\n",
    "import xml.etree.ElementTree as ET\n",
    "from tensorflow.keras.preprocessing.sequence import pad_sequences\n",
    "from tensorflow.keras.models import Sequential\n",
    "from tensorflow.keras.layers import Embedding, LSTM, Dense\n",
    "from tensorflow.keras.utils import to_categorical"
   ]
  },
  {
   "cell_type": "code",
   "execution_count": 4,
   "id": "c1ce0fa6",
   "metadata": {},
   "outputs": [],
   "source": [
    "#local directory with logs (can be changed as per need)\n",
    "train_directory = \"D:\\Siddhant\\Masters Project\\Dataset\\Process Discovery Contest 2023_1_all\\Training Logs\"\n",
    "\n",
    "\n",
    "\n",
    "#extracting concept names\n",
    "def extract_concept_names_without_ns(file_path):\n",
    "    tree = ET.parse(file_path)\n",
    "    root = tree.getroot()\n",
    "    \n",
    "    concept_names = []\n",
    "    for trace in root.iter('trace'):\n",
    "        for event in trace.iter('event'):\n",
    "            for string in event.iter('string'):\n",
    "                if string.attrib.get('key') == 'concept:name':\n",
    "                    concept_names.append(string.attrib['value'])\n",
    "    \n",
    "    return concept_names\n",
    "\n",
    "# Function to read and combine logs from all files in the directory\n",
    "def read_and_combine_logs(directory):\n",
    "    combined_activities = []\n",
    "    for filename in os.listdir(directory):\n",
    "        if filename.endswith('.xes'):\n",
    "            log_path = os.path.join(directory, filename)\n",
    "            concept_names = extract_concept_names_without_ns(log_path)\n",
    "            combined_activities.extend(concept_names)\n",
    "    return combined_activities"
   ]
  },
  {
   "cell_type": "code",
   "execution_count": 5,
   "id": "2426b7fd",
   "metadata": {},
   "outputs": [
    {
     "name": "stdout",
     "output_type": "stream",
     "text": [
      "Number of activities extracted: 6674778\n"
     ]
    }
   ],
   "source": [
    "combined_activities = read_and_combine_logs(train_directory)\n",
    "print(f\"Number of activities extracted: {len(combined_activities)}\")"
   ]
  },
  {
   "cell_type": "code",
   "execution_count": 6,
   "id": "2dd29806",
   "metadata": {},
   "outputs": [],
   "source": [
    "# Convert activities to categorical codes\n",
    "activity_codes = pd.Series(combined_activities).astype('category').cat.codes\n",
    "unique_activities = pd.Series(combined_activities).astype('category').cat.categories"
   ]
  },
  {
   "cell_type": "code",
   "execution_count": 7,
   "id": "2a6f6a0c",
   "metadata": {},
   "outputs": [],
   "source": [
    "sequences = []\n",
    "next_activities = []"
   ]
  },
  {
   "cell_type": "code",
   "execution_count": 8,
   "id": "b0a7f943",
   "metadata": {},
   "outputs": [],
   "source": [
    "max_sequence_length = 100 \n",
    "num_classes = len(unique_activities)\n",
    "batch_size = 32\n",
    "\n",
    "#generator function to yield batches of sequences and labels\n",
    "def sequence_generator(activity_codes, batch_size, max_sequence_length, num_classes):\n",
    "    while True:\n",
    "        sequences = []\n",
    "        next_activities = []\n",
    "        for i in range(1, len(activity_codes)):\n",
    "            sequences.append(activity_codes[:i].tolist())\n",
    "            next_activities.append(activity_codes[i])\n",
    "            if len(sequences) == batch_size:\n",
    "                X = pad_sequences(sequences, maxlen=max_sequence_length, padding='pre')\n",
    "                y = to_categorical(next_activities, num_classes=num_classes)\n",
    "                yield X, y\n",
    "                sequences = []\n",
    "                next_activities = []"
   ]
  },
  {
   "cell_type": "code",
   "execution_count": null,
   "id": "a1e0e128",
   "metadata": {},
   "outputs": [
    {
     "name": "stdout",
     "output_type": "stream",
     "text": [
      "WARNING:tensorflow:From D:\\Siddhant\\Anaconda\\Lib\\site-packages\\keras\\src\\backend.py:873: The name tf.get_default_graph is deprecated. Please use tf.compat.v1.get_default_graph instead.\n",
      "\n",
      "WARNING:tensorflow:From D:\\Siddhant\\Anaconda\\Lib\\site-packages\\keras\\src\\optimizers\\__init__.py:309: The name tf.train.Optimizer is deprecated. Please use tf.compat.v1.train.Optimizer instead.\n",
      "\n",
      "Epoch 1/5\n",
      "WARNING:tensorflow:From D:\\Siddhant\\Anaconda\\Lib\\site-packages\\keras\\src\\utils\\tf_utils.py:492: The name tf.ragged.RaggedTensorValue is deprecated. Please use tf.compat.v1.ragged.RaggedTensorValue instead.\n",
      "\n",
      "WARNING:tensorflow:From D:\\Siddhant\\Anaconda\\Lib\\site-packages\\keras\\src\\engine\\base_layer_utils.py:384: The name tf.executing_eagerly_outside_functions is deprecated. Please use tf.compat.v1.executing_eagerly_outside_functions instead.\n",
      "\n",
      " 39306/208586 [====>.........................] - ETA: 9:25:59 - loss: 1.0370 - accuracy: 0.5186"
     ]
    }
   ],
   "source": [
    "#model\n",
    "model = Sequential()\n",
    "model.add(Embedding(input_dim=num_classes, output_dim=128, input_length=max_sequence_length))\n",
    "model.add(LSTM(100))\n",
    "model.add(Dense(num_classes, activation='softmax'))\n",
    "\n",
    "model.compile(optimizer='adam', loss='categorical_crossentropy', metrics=['accuracy'])\n",
    "\n",
    "\n",
    "# Training\n",
    "model.fit(sequence_generator(activity_codes, batch_size, max_sequence_length, num_classes),\n",
    "          steps_per_epoch=len(activity_codes) // batch_size,\n",
    "          epochs=5)\n"
   ]
  },
  {
   "cell_type": "code",
   "execution_count": null,
   "id": "cbbce745",
   "metadata": {},
   "outputs": [],
   "source": [
    "# Evaluation\n",
    "loss, accuracy = model.evaluate(sequence_generator(activity_codes, batch_size, max_sequence_length, num_classes),\n",
    "                                steps=len(activity_codes) // batch_size)\n",
    "print(f'Loss: {loss}, Accuracy: {accuracy}')"
   ]
  }
 ],
 "metadata": {
  "kernelspec": {
   "display_name": "Python 3 (ipykernel)",
   "language": "python",
   "name": "python3"
  },
  "language_info": {
   "codemirror_mode": {
    "name": "ipython",
    "version": 3
   },
   "file_extension": ".py",
   "mimetype": "text/x-python",
   "name": "python",
   "nbconvert_exporter": "python",
   "pygments_lexer": "ipython3",
   "version": "3.11.5"
  }
 },
 "nbformat": 4,
 "nbformat_minor": 5
}
